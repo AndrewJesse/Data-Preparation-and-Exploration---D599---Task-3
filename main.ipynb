{
 "cells": [
  {
   "cell_type": "code",
   "execution_count": 5,
   "metadata": {},
   "outputs": [
    {
     "name": "stderr",
     "output_type": "stream",
     "text": [
      "c:\\Users\\ajmar\\miniconda3\\Lib\\site-packages\\openpyxl\\packaging\\core.py:99: DeprecationWarning: datetime.datetime.utcnow() is deprecated and scheduled for removal in a future version. Use timezone-aware objects to represent datetimes in UTC: datetime.datetime.now(datetime.UTC).\n",
      "  now = datetime.datetime.utcnow()\n",
      "c:\\Users\\ajmar\\miniconda3\\Lib\\site-packages\\openpyxl\\packaging\\core.py:99: DeprecationWarning: datetime.datetime.utcnow() is deprecated and scheduled for removal in a future version. Use timezone-aware objects to represent datetimes in UTC: datetime.datetime.now(datetime.UTC).\n",
      "  now = datetime.datetime.utcnow()\n"
     ]
    }
   ],
   "source": [
    "import pandas as pd\n",
    "from profiler import profiler\n",
    "from mlxtend.frequent_patterns import apriori, association_rules\n",
    "from sklearn.preprocessing import OrdinalEncoder, OneHotEncoder\n",
    "\n",
    "# CREATE DATAFRAME\n",
    "df = pd.read_excel(\"Megastore Dataset.xlsx\")\n",
    "\n",
    "# NO DUPLICATE ROWS FOUND\n",
    "# df = df.drop_duplicates()"
   ]
  },
  {
   "cell_type": "code",
   "execution_count": 8,
   "metadata": {},
   "outputs": [],
   "source": [
    "# DEFINE ENCODED VARIABLES \n",
    "ordinal_variables = ['Order Priority', 'Segment']\n",
    "nominal_variables = ['Category', 'Region']\n",
    "\n",
    "# ORDINAL ENCODING\n",
    "ordinal_encoder = OrdinalEncoder(categories=[['Low','Medium','High','Critical'],['Consumer','Home Office','Corporate']])\n",
    "df[ordinal_variables] = ordinal_encoder.fit_transform(df[ordinal_variables])\n",
    "\n",
    "# ONE-HOT ENCODING\n",
    "df = pd.get_dummies(df, columns=nominal_variables)\n",
    "\n"
   ]
  },
  {
   "cell_type": "code",
   "execution_count": 11,
   "metadata": {},
   "outputs": [
    {
     "name": "stdout",
     "output_type": "stream",
     "text": [
      "   Row ID                  Order ID Order Date  Ship Date       Ship Mode  \\\n",
      "0   33712  CA-2013-PP18955140-41461 2013-07-06 2013-07-11  Standard Class   \n",
      "1   33326  CA-2013-GP14740140-41604 2013-11-26 2013-11-30  Standard Class   \n",
      "2   33327  CA-2013-GP14740140-41604 2013-11-26 2013-11-30  Standard Class   \n",
      "3   33325  CA-2013-GP14740140-41604 2013-11-26 2013-11-30  Standard Class   \n",
      "4   33328  CA-2013-GP14740140-41604 2013-11-26 2013-11-30  Standard Class   \n",
      "\n",
      "    Customer ID Customer Name  Segment  Postal Code        City  ...  \\\n",
      "0  PP-189551406    Paul Prost      1.0       1040.0     Holyoke  ...   \n",
      "1  GP-147401406   Guy Phonely      2.0       1453.0  Leominster  ...   \n",
      "2  GP-147401406   Guy Phonely      2.0       1453.0  Leominster  ...   \n",
      "3  GP-147401406   Guy Phonely      2.0       1453.0  Leominster  ...   \n",
      "4  GP-147401406   Guy Phonely      2.0       1453.0  Leominster  ...   \n",
      "\n",
      "  Region_South America Region_Southeastern Asia Region_Southern Africa  \\\n",
      "0                False                    False                  False   \n",
      "1                False                    False                  False   \n",
      "2                False                    False                  False   \n",
      "3                False                    False                  False   \n",
      "4                False                    False                  False   \n",
      "\n",
      "  Region_Southern Asia Region_Southern Europe Region_Southern US  \\\n",
      "0                False                  False              False   \n",
      "1                False                  False              False   \n",
      "2                False                  False              False   \n",
      "3                False                  False              False   \n",
      "4                False                  False              False   \n",
      "\n",
      "   Region_Western Africa  Region_Western Asia  Region_Western Europe  \\\n",
      "0                  False                False                  False   \n",
      "1                  False                False                  False   \n",
      "2                  False                False                  False   \n",
      "3                  False                False                  False   \n",
      "4                  False                False                  False   \n",
      "\n",
      "   Region_Western US  \n",
      "0              False  \n",
      "1              False  \n",
      "2              False  \n",
      "3              False  \n",
      "4              False  \n",
      "\n",
      "[5 rows x 48 columns]\n"
     ]
    }
   ],
   "source": [
    "#frequent_itemsets = apriori(df, min_support=0.01, use_colnames=True)\n",
    "print(df.head())"
   ]
  }
 ],
 "metadata": {
  "kernelspec": {
   "display_name": "base",
   "language": "python",
   "name": "python3"
  },
  "language_info": {
   "codemirror_mode": {
    "name": "ipython",
    "version": 3
   },
   "file_extension": ".py",
   "mimetype": "text/x-python",
   "name": "python",
   "nbconvert_exporter": "python",
   "pygments_lexer": "ipython3",
   "version": "3.12.3"
  }
 },
 "nbformat": 4,
 "nbformat_minor": 2
}
