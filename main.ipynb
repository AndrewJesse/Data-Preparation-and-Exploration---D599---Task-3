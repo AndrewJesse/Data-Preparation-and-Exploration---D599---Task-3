{
 "cells": [
  {
   "cell_type": "code",
   "execution_count": 2,
   "metadata": {},
   "outputs": [
    {
     "data": {
      "text/plain": [
       "Row ID            51290\n",
       "Order ID          51290\n",
       "Order Date        51290\n",
       "Ship Date         51290\n",
       "Ship Mode         51290\n",
       "Customer ID       51290\n",
       "Customer Name     51290\n",
       "Segment           51290\n",
       "Postal Code        9994\n",
       "City              51290\n",
       "State             51290\n",
       "Country           51290\n",
       "Region            51290\n",
       "Market            51290\n",
       "Product ID        51290\n",
       "Category          51290\n",
       "Sub-Category      51290\n",
       "Product Name      51290\n",
       "Sales             51290\n",
       "Quantity          51290\n",
       "Discount          51290\n",
       "Profit            51290\n",
       "Shipping Cost     51290\n",
       "Order Priority    51290\n",
       "dtype: int64"
      ]
     },
     "execution_count": 2,
     "metadata": {},
     "output_type": "execute_result"
    }
   ],
   "source": [
    "import pandas as pd\n",
    "from profiler import profiler\n",
    "\n",
    "# CREATE DATAFRAME\n",
    "df = pd.read_excel(\"Megastore Dataset.xlsx\")\n",
    "\n",
    "# NO DUPLICATE ROWS FOUND\n",
    "# df = df.drop_duplicates()\n",
    "df.count()"
   ]
  }
 ],
 "metadata": {
  "kernelspec": {
   "display_name": "base",
   "language": "python",
   "name": "python3"
  },
  "language_info": {
   "codemirror_mode": {
    "name": "ipython",
    "version": 3
   },
   "file_extension": ".py",
   "mimetype": "text/x-python",
   "name": "python",
   "nbconvert_exporter": "python",
   "pygments_lexer": "ipython3",
   "version": "3.12.3"
  }
 },
 "nbformat": 4,
 "nbformat_minor": 2
}
